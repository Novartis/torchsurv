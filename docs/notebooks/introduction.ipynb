{
 "cells": [
  {
   "cell_type": "markdown",
   "id": "ca2213c2-6abc-4340-853a-7ab1e06e68d3",
   "metadata": {},
   "source": [
    "# Getting started\n",
    "\n",
    "In this notebook, we use `TorchSurv` to train a model that predicts relative risk of breast cancer recurrence. We use a public data set, the [German Breast Cancer Study Group 2 (GBSG2)](https://paperswithcode.com/dataset/gbsg2). After training the model, we evaluate the predictive performance using evaluation metrics implemented in `TorchSurv`.\n",
    "\n",
    "\n",
    "We first load the dataset using the package [lifelines](https://lifelines.readthedocs.io/en/latest/). The GBSG2 dataset contains features and recurrence free survival time (in days) for 686 women undergoing hormonal treatment. \n",
    "\n",
    "### Dependencies\n",
    "\n",
    "To run this notebook, dependencies must be installed. the recommended method is to use our development conda environment (**preferred**). Instruction can be found [here](https://opensource.nibr.com/torchsurv/devnotes.html#set-up-a-development-environment-via-conda) to install all optional dependencies. The other method is to install only required packages using the command line below:"
   ]
  },
  {
   "cell_type": "code",
   "execution_count": 1,
   "id": "160c8e19",
   "metadata": {},
   "outputs": [],
   "source": [
    "# Install only required packages (optional)\n",
    "# %pip install lifelines\n",
    "# %pip install matplotlib\n",
    "# %pip install sklearn\n",
    "# %pip install pandas"
   ]
  },
  {
   "cell_type": "code",
   "execution_count": 2,
   "id": "013dbcb4",
   "metadata": {},
   "outputs": [],
   "source": [
    "import warnings\n",
    "\n",
    "warnings.filterwarnings(\"ignore\")"
   ]
  },
  {
   "cell_type": "code",
   "execution_count": 3,
   "id": "2601dd00-7bd2-49d5-9bdf-a84205872890",
   "metadata": {},
   "outputs": [],
   "source": [
    "import lifelines\n",
    "import pandas as pd\n",
    "import torch\n",
    "\n",
    "# PyTorch boilerplate - see https://github.com/Novartis/torchsurv/blob/main/docs/notebooks/helpers_introduction.py\n",
    "from helpers_introduction import Custom_dataset, plot_losses\n",
    "from sklearn.model_selection import train_test_split\n",
    "from torch.utils.data import DataLoader\n",
    "\n",
    "# Our package\n",
    "from torchsurv.loss.cox import neg_partial_log_likelihood\n",
    "from torchsurv.loss.weibull import log_hazard, neg_log_likelihood, survival_function\n",
    "from torchsurv.metrics.auc import Auc\n",
    "from torchsurv.metrics.brier_score import BrierScore\n",
    "from torchsurv.metrics.cindex import ConcordanceIndex\n",
    "from torchsurv.stats.kaplan_meier import KaplanMeierEstimator"
   ]
  },
  {
   "cell_type": "code",
   "execution_count": 4,
   "id": "57a833cb",
   "metadata": {},
   "outputs": [],
   "source": [
    "# Issue with eager mode\n",
    "# torch._dynamo.config.suppress_errors = True  # Suppress inductor errors\n",
    "# torch._dynamo.reset()  # Reset the backend"
   ]
  },
  {
   "cell_type": "code",
   "execution_count": 5,
   "id": "d7a98ea2-100f-43ef-8c45-c786ddcd313e",
   "metadata": {},
   "outputs": [
    {
     "name": "stdout",
     "output_type": "stream",
     "text": [
      "CUDA-enabled GPU/TPU is available.\n"
     ]
    }
   ],
   "source": [
    "# Constant parameters across models\n",
    "# Detect available accelerator; Downgrade batch size if only CPU available\n",
    "if any([torch.cuda.is_available(), torch.backends.mps.is_available()]):\n",
    "    print(\"CUDA-enabled GPU/TPU is available.\")\n",
    "    BATCH_SIZE = 128  # batch size for training\n",
    "else:\n",
    "    print(\"No CUDA-enabled GPU found, using CPU.\")\n",
    "    BATCH_SIZE = 32  # batch size for training\n",
    "\n",
    "EPOCHS = 100\n",
    "LEARNING_RATE = 1e-2"
   ]
  },
  {
   "cell_type": "markdown",
   "id": "38dd4c6e-2934-44f5-88fa-1d9d02032fc3",
   "metadata": {},
   "source": [
    "## Dataset overview"
   ]
  },
  {
   "cell_type": "code",
   "execution_count": 6,
   "id": "1df49737-dc02-4d6b-acd7-d03b79f18a29",
   "metadata": {
    "scrolled": true
   },
   "outputs": [
    {
     "data": {
      "text/html": [
       "<div>\n",
       "<style scoped>\n",
       "    .dataframe tbody tr th:only-of-type {\n",
       "        vertical-align: middle;\n",
       "    }\n",
       "\n",
       "    .dataframe tbody tr th {\n",
       "        vertical-align: top;\n",
       "    }\n",
       "\n",
       "    .dataframe thead th {\n",
       "        text-align: right;\n",
       "    }\n",
       "</style>\n",
       "<table border=\"1\" class=\"dataframe\">\n",
       "  <thead>\n",
       "    <tr style=\"text-align: right;\">\n",
       "      <th></th>\n",
       "      <th>horTh</th>\n",
       "      <th>age</th>\n",
       "      <th>menostat</th>\n",
       "      <th>tsize</th>\n",
       "      <th>tgrade</th>\n",
       "      <th>pnodes</th>\n",
       "      <th>progrec</th>\n",
       "      <th>estrec</th>\n",
       "      <th>time</th>\n",
       "      <th>cens</th>\n",
       "    </tr>\n",
       "  </thead>\n",
       "  <tbody>\n",
       "    <tr>\n",
       "      <th>0</th>\n",
       "      <td>no</td>\n",
       "      <td>70</td>\n",
       "      <td>Post</td>\n",
       "      <td>21</td>\n",
       "      <td>II</td>\n",
       "      <td>3</td>\n",
       "      <td>48</td>\n",
       "      <td>66</td>\n",
       "      <td>1814</td>\n",
       "      <td>1</td>\n",
       "    </tr>\n",
       "    <tr>\n",
       "      <th>1</th>\n",
       "      <td>yes</td>\n",
       "      <td>56</td>\n",
       "      <td>Post</td>\n",
       "      <td>12</td>\n",
       "      <td>II</td>\n",
       "      <td>7</td>\n",
       "      <td>61</td>\n",
       "      <td>77</td>\n",
       "      <td>2018</td>\n",
       "      <td>1</td>\n",
       "    </tr>\n",
       "    <tr>\n",
       "      <th>2</th>\n",
       "      <td>yes</td>\n",
       "      <td>58</td>\n",
       "      <td>Post</td>\n",
       "      <td>35</td>\n",
       "      <td>II</td>\n",
       "      <td>9</td>\n",
       "      <td>52</td>\n",
       "      <td>271</td>\n",
       "      <td>712</td>\n",
       "      <td>1</td>\n",
       "    </tr>\n",
       "    <tr>\n",
       "      <th>3</th>\n",
       "      <td>yes</td>\n",
       "      <td>59</td>\n",
       "      <td>Post</td>\n",
       "      <td>17</td>\n",
       "      <td>II</td>\n",
       "      <td>4</td>\n",
       "      <td>60</td>\n",
       "      <td>29</td>\n",
       "      <td>1807</td>\n",
       "      <td>1</td>\n",
       "    </tr>\n",
       "    <tr>\n",
       "      <th>4</th>\n",
       "      <td>no</td>\n",
       "      <td>73</td>\n",
       "      <td>Post</td>\n",
       "      <td>35</td>\n",
       "      <td>II</td>\n",
       "      <td>1</td>\n",
       "      <td>26</td>\n",
       "      <td>65</td>\n",
       "      <td>772</td>\n",
       "      <td>1</td>\n",
       "    </tr>\n",
       "  </tbody>\n",
       "</table>\n",
       "</div>"
      ],
      "text/plain": [
       "  horTh  age menostat  tsize tgrade  pnodes  progrec  estrec  time  cens\n",
       "0    no   70     Post     21     II       3       48      66  1814     1\n",
       "1   yes   56     Post     12     II       7       61      77  2018     1\n",
       "2   yes   58     Post     35     II       9       52     271   712     1\n",
       "3   yes   59     Post     17     II       4       60      29  1807     1\n",
       "4    no   73     Post     35     II       1       26      65   772     1"
      ]
     },
     "execution_count": 6,
     "metadata": {},
     "output_type": "execute_result"
    }
   ],
   "source": [
    "# Load GBSG2 dataset\n",
    "df = lifelines.datasets.load_gbsg2()\n",
    "df.head(5)"
   ]
  },
  {
   "cell_type": "markdown",
   "id": "8f23ce41-c0eb-4c30-83f3-2a2d45dcf097",
   "metadata": {},
   "source": [
    "The dataset contains the categorical features: \n",
    "\n",
    "- `horTh`: hormonal therapy, a factor at two levels (yes and no).\n",
    "- `age`:  age of the patients in years.\n",
    "- `menostat`: menopausal status, a factor at two levels pre (premenopausal) and post (postmenopausal).\n",
    "- `tsize`: tumor size (in mm).\n",
    "- `tgrade`: tumor grade, a ordered factor at levels I < II < III.\n",
    "- `pnodes`: number of positive nodes.\n",
    "- `progrec`: progesterone receptor (in fmol).\n",
    "- `estrec`: estrogen receptor (in fmol).\n",
    "\n",
    "Additionally, it contains our survival targets:\n",
    "\n",
    "- `time`: recurrence free survival time (in days).\n",
    "- `cens`: censoring indicator (0- censored, 1- event).\n",
    "\n",
    "One common approach is to use a [one hot encoder](https://pandas.pydata.org/pandas-docs/stable/reference/api/pandas.get_dummies.html) to convert them into numerical features. We then separate the dataframes into features `X` and labels `y`. The following code also partitions the labels and features into training and testing cohorts."
   ]
  },
  {
   "cell_type": "markdown",
   "id": "34132fea-daa6-46a5-8429-16df73886a51",
   "metadata": {},
   "source": [
    "## Data preparation"
   ]
  },
  {
   "cell_type": "code",
   "execution_count": 7,
   "id": "7a5fd9ef-2643-46b7-9c98-05ff919026ea",
   "metadata": {},
   "outputs": [
    {
     "data": {
      "text/html": [
       "<div>\n",
       "<style scoped>\n",
       "    .dataframe tbody tr th:only-of-type {\n",
       "        vertical-align: middle;\n",
       "    }\n",
       "\n",
       "    .dataframe tbody tr th {\n",
       "        vertical-align: top;\n",
       "    }\n",
       "\n",
       "    .dataframe thead th {\n",
       "        text-align: right;\n",
       "    }\n",
       "</style>\n",
       "<table border=\"1\" class=\"dataframe\">\n",
       "  <thead>\n",
       "    <tr style=\"text-align: right;\">\n",
       "      <th></th>\n",
       "      <th>age</th>\n",
       "      <th>tsize</th>\n",
       "      <th>pnodes</th>\n",
       "      <th>progrec</th>\n",
       "      <th>estrec</th>\n",
       "      <th>time</th>\n",
       "      <th>cens</th>\n",
       "      <th>horTh_yes</th>\n",
       "      <th>menostat_Pre</th>\n",
       "      <th>tgrade_II</th>\n",
       "      <th>tgrade_III</th>\n",
       "    </tr>\n",
       "  </thead>\n",
       "  <tbody>\n",
       "    <tr>\n",
       "      <th>0</th>\n",
       "      <td>70.0</td>\n",
       "      <td>21.0</td>\n",
       "      <td>3.0</td>\n",
       "      <td>48.0</td>\n",
       "      <td>66.0</td>\n",
       "      <td>1814.0</td>\n",
       "      <td>1.0</td>\n",
       "      <td>0.0</td>\n",
       "      <td>0.0</td>\n",
       "      <td>1.0</td>\n",
       "      <td>0.0</td>\n",
       "    </tr>\n",
       "    <tr>\n",
       "      <th>1</th>\n",
       "      <td>56.0</td>\n",
       "      <td>12.0</td>\n",
       "      <td>7.0</td>\n",
       "      <td>61.0</td>\n",
       "      <td>77.0</td>\n",
       "      <td>2018.0</td>\n",
       "      <td>1.0</td>\n",
       "      <td>1.0</td>\n",
       "      <td>0.0</td>\n",
       "      <td>1.0</td>\n",
       "      <td>0.0</td>\n",
       "    </tr>\n",
       "    <tr>\n",
       "      <th>2</th>\n",
       "      <td>58.0</td>\n",
       "      <td>35.0</td>\n",
       "      <td>9.0</td>\n",
       "      <td>52.0</td>\n",
       "      <td>271.0</td>\n",
       "      <td>712.0</td>\n",
       "      <td>1.0</td>\n",
       "      <td>1.0</td>\n",
       "      <td>0.0</td>\n",
       "      <td>1.0</td>\n",
       "      <td>0.0</td>\n",
       "    </tr>\n",
       "    <tr>\n",
       "      <th>3</th>\n",
       "      <td>59.0</td>\n",
       "      <td>17.0</td>\n",
       "      <td>4.0</td>\n",
       "      <td>60.0</td>\n",
       "      <td>29.0</td>\n",
       "      <td>1807.0</td>\n",
       "      <td>1.0</td>\n",
       "      <td>1.0</td>\n",
       "      <td>0.0</td>\n",
       "      <td>1.0</td>\n",
       "      <td>0.0</td>\n",
       "    </tr>\n",
       "    <tr>\n",
       "      <th>4</th>\n",
       "      <td>73.0</td>\n",
       "      <td>35.0</td>\n",
       "      <td>1.0</td>\n",
       "      <td>26.0</td>\n",
       "      <td>65.0</td>\n",
       "      <td>772.0</td>\n",
       "      <td>1.0</td>\n",
       "      <td>0.0</td>\n",
       "      <td>0.0</td>\n",
       "      <td>1.0</td>\n",
       "      <td>0.0</td>\n",
       "    </tr>\n",
       "  </tbody>\n",
       "</table>\n",
       "</div>"
      ],
      "text/plain": [
       "    age  tsize  pnodes  progrec  estrec    time  cens  horTh_yes  \\\n",
       "0  70.0   21.0     3.0     48.0    66.0  1814.0   1.0        0.0   \n",
       "1  56.0   12.0     7.0     61.0    77.0  2018.0   1.0        1.0   \n",
       "2  58.0   35.0     9.0     52.0   271.0   712.0   1.0        1.0   \n",
       "3  59.0   17.0     4.0     60.0    29.0  1807.0   1.0        1.0   \n",
       "4  73.0   35.0     1.0     26.0    65.0   772.0   1.0        0.0   \n",
       "\n",
       "   menostat_Pre  tgrade_II  tgrade_III  \n",
       "0           0.0        1.0         0.0  \n",
       "1           0.0        1.0         0.0  \n",
       "2           0.0        1.0         0.0  \n",
       "3           0.0        1.0         0.0  \n",
       "4           0.0        1.0         0.0  "
      ]
     },
     "execution_count": 7,
     "metadata": {},
     "output_type": "execute_result"
    }
   ],
   "source": [
    "df_onehot = pd.get_dummies(df, columns=[\"horTh\", \"menostat\", \"tgrade\"]).astype(\"float\")\n",
    "df_onehot.drop(\n",
    "    [\"horTh_no\", \"menostat_Post\", \"tgrade_I\"],\n",
    "    axis=1,\n",
    "    inplace=True,\n",
    ")\n",
    "df_onehot.head(5)"
   ]
  },
  {
   "cell_type": "code",
   "execution_count": 8,
   "id": "0f8b7f3b-fb2a-4d74-ac99-8f6390b2f5eb",
   "metadata": {},
   "outputs": [
    {
     "name": "stdout",
     "output_type": "stream",
     "text": [
      "(Sample size) Training:336 | Validation:144 |Testing:206\n"
     ]
    }
   ],
   "source": [
    "df_train, df_test = train_test_split(df_onehot, test_size=0.3)\n",
    "df_train, df_val = train_test_split(df_train, test_size=0.3)\n",
    "print(f\"(Sample size) Training:{len(df_train)} | Validation:{len(df_val)} |Testing:{len(df_test)}\")"
   ]
  },
  {
   "cell_type": "markdown",
   "id": "00ad6603-0dff-4991-992a-081ba9a4fafa",
   "metadata": {},
   "source": [
    "Let us setup the dataloaders for training, validation and testing."
   ]
  },
  {
   "cell_type": "code",
   "execution_count": 9,
   "id": "326c03fc-91f1-493b-a9ba-820de17fb2f8",
   "metadata": {},
   "outputs": [],
   "source": [
    "# Dataloader\n",
    "dataloader_train = DataLoader(Custom_dataset(df_train), batch_size=BATCH_SIZE, shuffle=True)\n",
    "dataloader_val = DataLoader(Custom_dataset(df_val), batch_size=len(df_val), shuffle=False)\n",
    "dataloader_test = DataLoader(Custom_dataset(df_test), batch_size=len(df_test), shuffle=False)"
   ]
  },
  {
   "cell_type": "code",
   "execution_count": 10,
   "id": "570386fb-f0ea-4061-bae2-11b274e7f851",
   "metadata": {},
   "outputs": [
    {
     "name": "stdout",
     "output_type": "stream",
     "text": [
      "x (shape)    = torch.Size([128, 9])\n",
      "num_features = 9\n",
      "event        = torch.Size([128])\n",
      "time         = torch.Size([128])\n"
     ]
    }
   ],
   "source": [
    "# Sanity check\n",
    "x, (event, time) = next(iter(dataloader_train))\n",
    "num_features = x.size(1)\n",
    "\n",
    "print(f\"x (shape)    = {x.shape}\")\n",
    "print(f\"num_features = {num_features}\")\n",
    "print(f\"event        = {event.shape}\")\n",
    "print(f\"time         = {time.shape}\")"
   ]
  },
  {
   "cell_type": "markdown",
   "id": "6b53d40d-d2c4-4dd7-bb85-97d4e946c356",
   "metadata": {},
   "source": [
    "## Section 1: Cox proportional hazards model\n",
    "\n",
    "In this section, we use the [Cox proportional hazards model](../_autosummary/torchsurv.loss.cox.html). Given covariate $x_{i}$, the hazard of patient $i$ has the form\n",
    "$$\n",
    "\\lambda (t|x_{i}) =\\lambda_{0}(t)\\theta(x_{i})\n",
    "$$\n",
    "The baseline hazard $\\lambda_{0}(t)$ is identical across subjects (i.e., has no dependency on $i$). The subject-specific risk of event occurrence is captured through the relative hazards $\\{\\theta(x_{i})\\}_{i = 1, \\dots, N}$.\n",
    "\n",
    "We train a multi-layer perceptron (MLP) to model the subject-specific risk of event occurrence, i.e., the log relative hazards $\\log\\theta(x_{i})$. Patients with lower recurrence time are assumed to have higher risk of event. "
   ]
  },
  {
   "cell_type": "markdown",
   "id": "46343fe0",
   "metadata": {},
   "source": [
    "### Section 1.1: MLP model for log relative hazards"
   ]
  },
  {
   "cell_type": "code",
   "execution_count": 11,
   "id": "9c2bd89a-c90a-4795-aab5-b5c21906a0de",
   "metadata": {},
   "outputs": [],
   "source": [
    "# Initiate Weibull model\n",
    "cox_model = torch.nn.Sequential(\n",
    "    torch.nn.BatchNorm1d(num_features),  # Batch normalization\n",
    "    torch.nn.Linear(num_features, 32),\n",
    "    torch.nn.ReLU(),\n",
    "    torch.nn.Dropout(),\n",
    "    torch.nn.Linear(32, 64),\n",
    "    torch.nn.ReLU(),\n",
    "    torch.nn.Dropout(),\n",
    "    torch.nn.Linear(64, 1),  # Estimating log hazards for Cox models\n",
    ")"
   ]
  },
  {
   "cell_type": "markdown",
   "id": "97c90244",
   "metadata": {},
   "source": [
    "### Section 1.2: MLP model training"
   ]
  },
  {
   "cell_type": "code",
   "execution_count": null,
   "id": "d7889dc1-1cfa-424e-a586-481cbc789581",
   "metadata": {},
   "outputs": [
    {
     "name": "stdout",
     "output_type": "stream",
     "text": [
      "Epoch: 000, Training loss: 12.59\n",
      "Epoch: 010, Training loss: 12.37\n",
      "Epoch: 020, Training loss: 12.10\n",
      "Epoch: 030, Training loss: 12.06\n",
      "Epoch: 040, Training loss: 11.97\n",
      "Epoch: 050, Training loss: 12.01\n",
      "Epoch: 060, Training loss: 12.02\n",
      "Epoch: 070, Training loss: 11.83\n",
      "Epoch: 080, Training loss: 11.51\n",
      "Epoch: 090, Training loss: 11.34\n"
     ]
    }
   ],
   "source": [
    "torch.manual_seed(42)\n",
    "\n",
    "# Init optimizer for Cox\n",
    "optimizer = torch.optim.Adam(cox_model.parameters(), lr=LEARNING_RATE)\n",
    "\n",
    "# Initiate empty list to store the loss on the train and validation sets\n",
    "train_losses = []\n",
    "val_losses = []\n",
    "\n",
    "# training loop\n",
    "for epoch in range(EPOCHS):\n",
    "    epoch_loss = torch.tensor(0.0)\n",
    "    for _, batch in enumerate(dataloader_train):\n",
    "        x, (event, time) = batch\n",
    "        optimizer.zero_grad()\n",
    "        log_hz = cox_model(x)  # shape = (16, 1)\n",
    "        loss = neg_partial_log_likelihood(log_hz, event, time, reduction=\"mean\")\n",
    "        loss.backward()\n",
    "        optimizer.step()\n",
    "        epoch_loss += loss.detach()\n",
    "\n",
    "    if epoch % (EPOCHS // 10) == 0:\n",
    "        print(f\"Epoch: {epoch:03}, Training loss: {epoch_loss:0.2f}\")\n",
    "\n",
    "    # Record loss on train and test sets\n",
    "    train_losses.append(epoch_loss)\n",
    "    with torch.no_grad():\n",
    "        x, (event, time) = next(iter(dataloader_val))\n",
    "        val_losses.append(neg_partial_log_likelihood(cox_model(x), event, time, reduction=\"mean\"))"
   ]
  },
  {
   "cell_type": "markdown",
   "id": "0e2bdd8c-f84c-4003-98f4-220ddab518d1",
   "metadata": {},
   "source": [
    "We can visualize the training and validation losses."
   ]
  },
  {
   "cell_type": "code",
   "execution_count": 13,
   "id": "21afc248-303a-4156-8d9c-b97be3e0a56b",
   "metadata": {},
   "outputs": [
    {
     "data": {
      "image/png": "[encoded data removed]",
      "text/plain": [
       "<Figure size 640x480 with 1 Axes>"
      ]
     },
     "metadata": {},
     "output_type": "display_data"
    }
   ],
   "source": [
    "plot_losses(train_losses, val_losses, \"Cox\")"
   ]
  },
  {
   "cell_type": "markdown",
   "id": "bd881d14-9646-48e0-bcc3-f29be358161f",
   "metadata": {},
   "source": [
    "### Section 1.3: Cox proportional hazards model evaluation\n",
    "\n",
    "We evaluate the predictive performance of the model using \n",
    "\n",
    "* the [concordance index](../_autosummary/torchsurv.metrics.cindex.html) (C-index), which measures the the probability that a model correctly predicts which of two comparable samples will experience an event first based on their estimated risk scores,\n",
    "* the [Area Under the Receiver Operating Characteristic Curve](../_autosummary/torchsurv.metrics.auc.html) (AUC), which measures the probability that a model correctly predicts which of two comparable samples will experience an event by time t based on their estimated risk scores.\n",
    "\n",
    "We cannot use the Brier score because this model is not able to estimate the survival function."
   ]
  },
  {
   "cell_type": "markdown",
   "id": "0d2e7996",
   "metadata": {},
   "source": [
    "We start by evaluating the subject-specific relative hazards on the test set "
   ]
  },
  {
   "cell_type": "code",
   "execution_count": 14,
   "id": "272a997d-a978-4e9b-bb0b-d90e4f03a530",
   "metadata": {},
   "outputs": [],
   "source": [
    "cox_model.eval()\n",
    "with torch.no_grad():\n",
    "    # test event and test time of length n\n",
    "    x, (event, time) = next(iter(dataloader_test))\n",
    "    log_hz = cox_model(x)  # log hazard of length n"
   ]
  },
  {
   "cell_type": "markdown",
   "id": "77bd0fe9",
   "metadata": {},
   "source": [
    "We obtain the concordance index, and its confidence interval"
   ]
  },
  {
   "cell_type": "code",
   "execution_count": 15,
   "id": "3c9ad489-9e53-40ac-8931-8941597760a8",
   "metadata": {},
   "outputs": [
    {
     "name": "stdout",
     "output_type": "stream",
     "text": [
      "Cox model performance:\n",
      "Concordance-index   = 0.6992806792259216\n",
      "Confidence interval = tensor([0.5989, 0.7997])\n"
     ]
    }
   ],
   "source": [
    "# Concordance index\n",
    "cox_cindex = ConcordanceIndex()\n",
    "print(\"Cox model performance:\")\n",
    "print(f\"Concordance-index   = {cox_cindex(log_hz, event, time)}\")\n",
    "print(f\"Confidence interval = {cox_cindex.confidence_interval()}\")"
   ]
  },
  {
   "cell_type": "markdown",
   "id": "507b410a",
   "metadata": {},
   "source": [
    "We can also test whether the observed concordance index is greater than 0.5. The statistical test is specified with H0: c-index = 0.5 and Ha: c-index > 0.5. The p-value of the statistical test is"
   ]
  },
  {
   "cell_type": "code",
   "execution_count": 16,
   "id": "7d34ba82",
   "metadata": {},
   "outputs": [
    {
     "name": "stdout",
     "output_type": "stream",
     "text": [
      "p-value = 5.0008296966552734e-05\n"
     ]
    }
   ],
   "source": [
    "# H0: cindex = 0.5, Ha: cindex > 0.5\n",
    "print(\"p-value = {}\".format(cox_cindex.p_value(alternative=\"greater\")))"
   ]
  },
  {
   "cell_type": "markdown",
   "id": "a60919a9",
   "metadata": {},
   "source": [
    "For time-dependent prediction (e.g., 5-year mortality), the C-index is not a proper measure. Instead, it is recommended to use the AUC. The probability to correctly predicts which of two comparable patients will experience an event by 5-year based on their estimated risk scores is the AUC evaluated at 5-year (1825 days) obtained with"
   ]
  },
  {
   "cell_type": "code",
   "execution_count": 17,
   "id": "907312f9",
   "metadata": {},
   "outputs": [
    {
     "name": "stdout",
     "output_type": "stream",
     "text": [
      "AUC 5-yr             = tensor([0.7305])\n",
      "AUC 5-yr (conf int.) = tensor([0.6669, 0.7941])\n"
     ]
    }
   ],
   "source": [
    "cox_auc = Auc()\n",
    "\n",
    "new_time = torch.tensor(1825.0)\n",
    "\n",
    "# auc evaluated at new time = 1825, 5 year\n",
    "print(f\"AUC 5-yr             = {cox_auc(log_hz, event, time, new_time=new_time)}\")\n",
    "print(f\"AUC 5-yr (conf int.) = {cox_auc.confidence_interval()}\")"
   ]
  },
  {
   "cell_type": "markdown",
   "id": "41e7e69f",
   "metadata": {},
   "source": [
    "As before, we can test whether the observed Auc at 5-year is greater than 0.5. The statistical test is specified with H0: auc = 0.5 and Ha: auc > 0.5. The p-value of the statistical test is"
   ]
  },
  {
   "cell_type": "code",
   "execution_count": 18,
   "id": "702e5a74",
   "metadata": {},
   "outputs": [
    {
     "name": "stdout",
     "output_type": "stream",
     "text": [
      "AUC (p_value) = tensor([0.])\n"
     ]
    }
   ],
   "source": [
    "print(f\"AUC (p_value) = {cox_auc.p_value()}\")"
   ]
  },
  {
   "cell_type": "markdown",
   "id": "b8f517e6-b0a4-4fbc-aac5-b500b4aca169",
   "metadata": {},
   "source": [
    "## Section 2: Weibull accelerated failure time (AFT) model"
   ]
  },
  {
   "cell_type": "markdown",
   "id": "769ddcf5",
   "metadata": {},
   "source": [
    "In this section, we use the [Weibull accelerated failure (AFT) model](../_autosummary/torchsurv.loss.weibull.html). Given covariate $x_{i}$, the hazard of patient $i$ at time $t$ has the form\n",
    "$$\n",
    "\\lambda (t|x_{i}) = \\frac{\\rho(x_{i}) } {\\lambda(x_{i}) } + \\left(\\frac{t}{\\lambda(x_{i})}\\right)^{\\rho(x_{i}) - 1}\n",
    "$$\n",
    "\n",
    "Given the hazard form, it can be shown that the event density follows a Weibull distribution parametrized by scale $\\lambda(x_{i})$ and shape $\\rho(x_{i})$. The subject-specific risk of event occurrence at time $t$ is captured through the hazards $\\{\\lambda (t|x_{i})\\}_{i = 1, \\dots, N}$. We train a multi-layer perceptron (MLP) to model the subject-specific log scale, $\\log \\lambda(x_{i})$, and the log shape, $\\log\\rho(x_{i})$. "
   ]
  },
  {
   "cell_type": "markdown",
   "id": "a580702e",
   "metadata": {},
   "source": [
    "### Section 2.1: MLP model for log scale and log shape"
   ]
  },
  {
   "cell_type": "code",
   "execution_count": 19,
   "id": "35b92c10-e5fb-491d-9e27-743bcffdced2",
   "metadata": {},
   "outputs": [],
   "source": [
    "# Same architecture than Cox model, beside outputs dimension\n",
    "weibull_model = torch.nn.Sequential(\n",
    "    torch.nn.BatchNorm1d(num_features),  # Batch normalization\n",
    "    torch.nn.Linear(num_features, 32),\n",
    "    torch.nn.ReLU(),\n",
    "    torch.nn.Dropout(),\n",
    "    torch.nn.Linear(32, 64),\n",
    "    torch.nn.ReLU(),\n",
    "    torch.nn.Dropout(),\n",
    "    torch.nn.Linear(64, 2),  # Estimating log parameters for Weibull model\n",
    ")"
   ]
  },
  {
   "cell_type": "markdown",
   "id": "e96c6985",
   "metadata": {},
   "source": [
    "### Section 2.2: MLP model training"
   ]
  },
  {
   "cell_type": "code",
   "execution_count": 20,
   "id": "3d5c6f77-6245-42b0-ae48-33b57789b651",
   "metadata": {},
   "outputs": [
    {
     "name": "stdout",
     "output_type": "stream",
     "text": [
      "Epoch: 000, Training loss: 3130718.00\n",
      "Epoch: 010, Training loss: 21.76\n",
      "Epoch: 020, Training loss: 21.59\n",
      "Epoch: 030, Training loss: 19.08\n",
      "Epoch: 040, Training loss: 18.69\n",
      "Epoch: 050, Training loss: 17.86\n",
      "Epoch: 060, Training loss: 17.28\n",
      "Epoch: 070, Training loss: 17.99\n",
      "Epoch: 080, Training loss: 16.89\n",
      "Epoch: 090, Training loss: 17.46\n"
     ]
    }
   ],
   "source": [
    "torch.manual_seed(42)\n",
    "\n",
    "# Init optimizer for Weibull\n",
    "optimizer = torch.optim.Adam(weibull_model.parameters(), lr=LEARNING_RATE)\n",
    "\n",
    "# Initialize empty list to store loss on train and validation sets\n",
    "train_losses = []\n",
    "val_losses = []\n",
    "\n",
    "# training loop\n",
    "for epoch in range(EPOCHS):\n",
    "    epoch_loss = torch.tensor(0.0)\n",
    "    for _, batch in enumerate(dataloader_train):\n",
    "        x, (event, time) = batch\n",
    "        optimizer.zero_grad()\n",
    "        log_params = weibull_model(x)  # shape = (16, 2)\n",
    "        loss = neg_log_likelihood(log_params, event, time, reduction=\"mean\")\n",
    "        loss.backward()\n",
    "        optimizer.step()\n",
    "        epoch_loss += loss.detach()\n",
    "\n",
    "    if epoch % (EPOCHS // 10) == 0:\n",
    "        print(f\"Epoch: {epoch:03}, Training loss: {epoch_loss:0.2f}\")\n",
    "\n",
    "    # Record losses for the following figure\n",
    "    train_losses.append(epoch_loss)\n",
    "    with torch.no_grad():\n",
    "        x, (event, time) = next(iter(dataloader_val))\n",
    "        val_losses.append(neg_log_likelihood(weibull_model(x), event, time, reduction=\"mean\"))"
   ]
  },
  {
   "cell_type": "markdown",
   "id": "4aba21b6",
   "metadata": {},
   "source": [
    "We can visualize the training and validation losses."
   ]
  },
  {
   "cell_type": "code",
   "execution_count": 21,
   "id": "243a4fa9-f751-46e7-83f3-e623bfd3518e",
   "metadata": {},
   "outputs": [
    {
     "data": {
      "image/png": "[encoded data removed]",
      "text/plain": [
       "<Figure size 640x480 with 1 Axes>"
      ]
     },
     "metadata": {},
     "output_type": "display_data"
    }
   ],
   "source": [
    "plot_losses(train_losses, val_losses, \"Weibull\")"
   ]
  },
  {
   "cell_type": "markdown",
   "id": "86139132-d337-47b7-a8ad-eac1e255f91d",
   "metadata": {},
   "source": [
    "### Section 2.3: Weibull AFT model evaluation\n",
    "\n",
    "We evaluate the predictive performance of the model using \n",
    "\n",
    "* the [C-index](../_autosummary/torchsurv.metrics.cindex.html), which measures the the probability that a model correctly predicts which of two comparable samples will experience an event first based on their estimated risk scores,\n",
    "* the [AUC](../_autosummary/torchsurv.metrics.auc.html), which measures the probability that a model correctly predicts which of two comparable samples will experience an event by time t based on their estimated risk scores, and\n",
    "* the [Brier score](../_autosummary/torchsurv.metrics.brier_score.html), which measures the model's calibration by calculating the mean square error between the estimated survival function and the empirical (i.e., in-sample) event status."
   ]
  },
  {
   "cell_type": "markdown",
   "id": "1cb226f5",
   "metadata": {},
   "source": [
    "We start by obtaining the subject-specific log hazard and survival probability at every time $t$ observed on the test set"
   ]
  },
  {
   "cell_type": "code",
   "execution_count": 22,
   "id": "11599a1f-597b-4ebf-8a15-d3f9db1ebcca",
   "metadata": {},
   "outputs": [],
   "source": [
    "weibull_model.eval()\n",
    "with torch.no_grad():\n",
    "    # event and time of length n\n",
    "    x, (event, time) = next(iter(dataloader_test))\n",
    "    log_params = weibull_model(x)  # shape = (n,2)\n",
    "\n",
    "# Compute the log hazards from weibull log parameters\n",
    "log_hz = log_hazard(log_params, time)  # shape = (n,n)\n",
    "\n",
    "# Compute the survival probability from weibull log parameters\n",
    "surv = survival_function(log_params, time)  # shape = (n,n)"
   ]
  },
  {
   "cell_type": "markdown",
   "id": "7e309515",
   "metadata": {},
   "source": [
    "We can evaluate the concordance index, its confidence interval and the p-value of the statistical test testing whether the c-index is greater than 0.5:"
   ]
  },
  {
   "cell_type": "code",
   "execution_count": 23,
   "id": "afd7e7a5-c909-41eb-a48f-a9c9832eb33b",
   "metadata": {},
   "outputs": [
    {
     "name": "stdout",
     "output_type": "stream",
     "text": [
      "Weibull model performance:\n",
      "Concordance-index   = 0.3960089683532715\n",
      "Confidence interval = tensor([0.2736, 0.5185])\n",
      "p-value             = 0.9519866704940796\n"
     ]
    }
   ],
   "source": [
    "# Concordance index\n",
    "weibull_cindex = ConcordanceIndex()\n",
    "print(\"Weibull model performance:\")\n",
    "print(f\"Concordance-index   = {weibull_cindex(log_hz, event, time)}\")\n",
    "print(f\"Confidence interval = {weibull_cindex.confidence_interval()}\")\n",
    "\n",
    "# H0: cindex = 0.5, Ha: cindex >0.5\n",
    "print(f\"p-value             = {weibull_cindex.p_value(alternative='greater')}\")"
   ]
  },
  {
   "cell_type": "markdown",
   "id": "d985e48c",
   "metadata": {},
   "source": [
    "For time-dependent prediction (e.g., 5-year mortality), the C-index is not a proper measure. Instead, it is recommended to use the AUC. The probability to correctly predicts which of two comparable patients will experience an event by 5-year based on their estimated risk scores is the AUC evaluated at 5-year (1825 days) obtained with"
   ]
  },
  {
   "cell_type": "code",
   "execution_count": 24,
   "id": "ca4e6c56",
   "metadata": {},
   "outputs": [
    {
     "name": "stdout",
     "output_type": "stream",
     "text": [
      "AUC 5-yr             = tensor([0.3564])\n",
      "AUC 5-yr (conf int.) = tensor([0.3081, 0.4046])\n",
      "AUC 5-yr (p value)   = tensor([1.])\n"
     ]
    }
   ],
   "source": [
    "new_time = torch.tensor(1825.0)\n",
    "\n",
    "# subject-specific log hazard at \\5-yr\n",
    "log_hz_t = log_hazard(log_params, time=new_time)  # shape = (n)\n",
    "weibull_auc = Auc()\n",
    "\n",
    "# auc evaluated at new time = 1825, 5 year\n",
    "print(f\"AUC 5-yr             = {weibull_auc(log_hz_t, event, time, new_time=new_time)}\")\n",
    "print(f\"AUC 5-yr (conf int.) = {weibull_auc.confidence_interval()}\")\n",
    "print(f\"AUC 5-yr (p value)   = {weibull_auc.p_value(alternative='greater')}\")"
   ]
  },
  {
   "cell_type": "markdown",
   "id": "66b00e9f",
   "metadata": {},
   "source": [
    "Lastly, we can evaluate the time-dependent Brier score and the integrated Brier score"
   ]
  },
  {
   "cell_type": "code",
   "execution_count": 25,
   "id": "b1d99480-b643-4836-acd3-7614fa903543",
   "metadata": {},
   "outputs": [
    {
     "name": "stdout",
     "output_type": "stream",
     "text": [
      "Brier score             = tensor([0.4162, 0.4360, 0.4406, 0.4392, 0.4382])\n",
      "Brier score (conf int.) = tensor([[0.4111, 0.4278, 0.4309, 0.4285, 0.4266],\n",
      "        [0.4214, 0.4442, 0.4504, 0.4498, 0.4497]])\n",
      "Integrated Brier score  = 0.240617036819458\n"
     ]
    }
   ],
   "source": [
    "brier_score = BrierScore()\n",
    "\n",
    "# brier score at first 5 times\n",
    "print(f\"Brier score             = {brier_score(surv, event, time)[:5]}\")\n",
    "print(f\"Brier score (conf int.) = {brier_score.confidence_interval()[:, :5]}\")\n",
    "\n",
    "# integrated brier score\n",
    "print(f\"Integrated Brier score  = {brier_score.integral()}\")"
   ]
  },
  {
   "cell_type": "markdown",
   "id": "0ca1d08c",
   "metadata": {},
   "source": [
    "We can test whether the time-dependent Brier score is smaller than what would be expected if the survival model was not providing accurate predictions beyond random chance. We use a bootstrap permutation test and obtain the p-value with:"
   ]
  },
  {
   "cell_type": "code",
   "execution_count": 26,
   "id": "9754fdcd",
   "metadata": {},
   "outputs": [
    {
     "name": "stdout",
     "output_type": "stream",
     "text": [
      "Brier score (p-val)        = tensor([0.9740, 0.6920, 0.5020, 0.1100, 0.1110])\n"
     ]
    }
   ],
   "source": [
    "# H0: bs = bs0, Ha: bs < bs0; where bs0 is the expected brier score if the survival model was not providing accurate predictions beyond random chance.\n",
    "\n",
    "# p-value for brier score at first 5 times\n",
    "print(f\"Brier score (p-val)        = {brier_score.p_value(alternative='less')[:5]}\")"
   ]
  },
  {
   "cell_type": "markdown",
   "id": "31f7e7f6-8f07-4f82-8653-8d0d2d1ed84f",
   "metadata": {},
   "source": [
    "## Section 3: Models comparison\n",
    "\n",
    "We can compare the predictive performance of the Cox proportional hazards model against the Weibull AFT model."
   ]
  },
  {
   "cell_type": "markdown",
   "id": "ed057468-ce75-4d3e-a825-71b55effcec8",
   "metadata": {},
   "source": [
    "### Section 3.1: Concordance index\n",
    "The statistical test is formulated as follows, H0: cindex cox = cindex weibull, Ha: cindex cox > cindex weibull"
   ]
  },
  {
   "cell_type": "code",
   "execution_count": 27,
   "id": "ea66963f-2537-4390-bb65-c773275b292b",
   "metadata": {},
   "outputs": [
    {
     "name": "stdout",
     "output_type": "stream",
     "text": [
      "Cox cindex     = 0.6992806792259216\n",
      "Weibull cindex = 0.3960089683532715\n",
      "p-value        = 0.00041254202369600534\n"
     ]
    }
   ],
   "source": [
    "print(f\"Cox cindex     = {cox_cindex.cindex}\")\n",
    "print(f\"Weibull cindex = {weibull_cindex.cindex}\")\n",
    "print(f\"p-value        = {cox_cindex.compare(weibull_cindex)}\")"
   ]
  },
  {
   "cell_type": "markdown",
   "id": "f478e8df",
   "metadata": {},
   "source": [
    "### Section 3.2: AUC at 5-year\n",
    "\n",
    "The statistical test is formulated as follows, H0: 5-yr auc cox = 5-yr auc weibull, Ha: 5-yr auc cox > 5-yr auc weibull"
   ]
  },
  {
   "cell_type": "code",
   "execution_count": 28,
   "id": "0c4e1651",
   "metadata": {},
   "outputs": [
    {
     "name": "stdout",
     "output_type": "stream",
     "text": [
      "Cox 5-yr AUC     = tensor([0.7305])\n",
      "Weibull 5-yr AUC = tensor([0.3564])\n",
      "p-value          = tensor([1.1102e-14])\n"
     ]
    }
   ],
   "source": [
    "print(f\"Cox 5-yr AUC     = {cox_auc.auc}\")\n",
    "print(f\"Weibull 5-yr AUC = {weibull_auc.auc}\")\n",
    "print(f\"p-value          = {cox_auc.compare(weibull_auc)}\")"
   ]
  },
  {
   "cell_type": "markdown",
   "id": "58a00b69",
   "metadata": {},
   "source": [
    "## Section 4: Kaplan Meier\n"
   ]
  },
  {
   "cell_type": "code",
   "execution_count": 29,
   "id": "0ec8b7e3",
   "metadata": {},
   "outputs": [],
   "source": [
    "# Create a Kaplan-Meier estimator\n",
    "km = KaplanMeierEstimator()\n",
    "\n",
    "# Use our observed testing dataset\n",
    "event = torch.tensor(df_test[\"cens\"].values).bool()\n",
    "time = torch.tensor(df_test[\"time\"].values)\n",
    "\n",
    "# Compute the estimator\n",
    "km(event, time)"
   ]
  },
  {
   "cell_type": "code",
   "execution_count": 30,
   "id": "f57051c9",
   "metadata": {},
   "outputs": [
    {
     "data": {
      "image/png": "[encoded data removed]",
      "text/plain": [
       "<Figure size 640x480 with 1 Axes>"
      ]
     },
     "metadata": {},
     "output_type": "display_data"
    }
   ],
   "source": [
    "# plot estimate\n",
    "km.plot_km()"
   ]
  },
  {
   "cell_type": "code",
   "execution_count": 31,
   "id": "a0716ac7",
   "metadata": {},
   "outputs": [
    {
     "name": "stdout",
     "output_type": "stream",
     "text": [
      "Time\tSurvival\n",
      "----------------\n",
      "17.00\t1.0000\n",
      "46.00\t1.0000\n",
      "63.00\t1.0000\n",
      "67.00\t1.0000\n",
      "71.00\t1.0000\n",
      "98.00\t0.9950\n",
      "120.00\t0.9900\n",
      "160.00\t0.9851\n",
      "171.00\t0.9801\n",
      "195.00\t0.9801\n",
      "241.00\t0.9751\n",
      "242.00\t0.9701\n",
      "272.00\t0.9651\n",
      "273.00\t0.9651\n",
      "275.00\t0.9601\n",
      "285.00\t0.9550\n",
      "296.00\t0.9550\n",
      "310.00\t0.9550\n",
      "316.00\t0.9500\n",
      "329.00\t0.9449\n",
      "336.00\t0.9398\n",
      "338.00\t0.9296\n",
      "350.00\t0.9246\n",
      "357.00\t0.9195\n",
      "372.00\t0.9144\n",
      "415.00\t0.9093\n",
      "424.00\t0.9093\n",
      "426.00\t0.9042\n",
      "429.00\t0.9042\n",
      "432.00\t0.9042\n",
      "436.00\t0.8990\n",
      "446.00\t0.8939\n",
      "448.00\t0.8887\n",
      "455.00\t0.8835\n",
      "465.00\t0.8784\n",
      "471.00\t0.8732\n",
      "481.00\t0.8680\n",
      "490.00\t0.8629\n",
      "491.00\t0.8577\n",
      "495.00\t0.8525\n",
      "502.00\t0.8474\n",
      "515.00\t0.8422\n",
      "518.00\t0.8370\n",
      "533.00\t0.8319\n",
      "537.00\t0.8267\n",
      "540.00\t0.8215\n",
      "545.00\t0.8164\n",
      "550.00\t0.8112\n",
      "552.00\t0.8060\n",
      "571.00\t0.8009\n",
      "575.00\t0.7957\n",
      "579.00\t0.7905\n",
      "586.00\t0.7854\n",
      "598.00\t0.7802\n",
      "622.00\t0.7750\n",
      "624.00\t0.7699\n",
      "628.00\t0.7699\n",
      "632.00\t0.7647\n",
      "648.00\t0.7595\n",
      "657.00\t0.7595\n",
      "662.00\t0.7542\n",
      "675.00\t0.7490\n",
      "707.00\t0.7438\n",
      "714.00\t0.7385\n",
      "730.00\t0.7333\n",
      "732.00\t0.7280\n",
      "737.00\t0.7280\n",
      "740.00\t0.7280\n",
      "754.00\t0.7227\n",
      "758.00\t0.7227\n",
      "761.00\t0.7227\n",
      "772.00\t0.7227\n",
      "792.00\t0.7227\n",
      "795.00\t0.7173\n",
      "797.00\t0.7063\n",
      "799.00\t0.7008\n",
      "801.00\t0.6954\n",
      "825.00\t0.6954\n",
      "828.00\t0.6954\n",
      "838.00\t0.6898\n",
      "858.00\t0.6898\n",
      "859.00\t0.6842\n",
      "861.00\t0.6786\n",
      "867.00\t0.6730\n",
      "877.00\t0.6730\n",
      "889.00\t0.6673\n",
      "891.00\t0.6616\n",
      "892.00\t0.6616\n",
      "893.00\t0.6558\n",
      "918.00\t0.6501\n",
      "936.00\t0.6501\n",
      "945.00\t0.6443\n",
      "959.00\t0.6384\n",
      "960.00\t0.6326\n",
      "969.00\t0.6326\n",
      "986.00\t0.6326\n",
      "995.00\t0.6326\n",
      "1036.00\t0.6267\n",
      "1059.00\t0.6207\n",
      "1062.00\t0.6207\n",
      "1090.00\t0.6147\n",
      "1091.00\t0.6147\n",
      "1093.00\t0.6147\n",
      "1094.00\t0.6085\n",
      "1095.00\t0.6085\n",
      "1109.00\t0.6085\n",
      "1114.00\t0.6085\n",
      "1117.00\t0.6085\n",
      "1120.00\t0.6021\n",
      "1152.00\t0.6021\n",
      "1167.00\t0.6021\n",
      "1174.00\t0.5956\n",
      "1183.00\t0.5890\n",
      "1192.00\t0.5890\n",
      "1195.00\t0.5890\n",
      "1207.00\t0.5823\n",
      "1218.00\t0.5757\n",
      "1225.00\t0.5690\n",
      "1230.00\t0.5690\n",
      "1232.00\t0.5690\n",
      "1240.00\t0.5690\n",
      "1279.00\t0.5620\n",
      "1323.00\t0.5620\n",
      "1329.00\t0.5550\n",
      "1342.00\t0.5550\n",
      "1343.00\t0.5477\n",
      "1352.00\t0.5403\n",
      "1356.00\t0.5403\n",
      "1357.00\t0.5403\n",
      "1363.00\t0.5327\n",
      "1364.00\t0.5327\n",
      "1371.00\t0.5250\n",
      "1434.00\t0.5250\n",
      "1441.00\t0.5250\n",
      "1459.00\t0.5170\n",
      "1483.00\t0.5170\n",
      "1490.00\t0.5170\n",
      "1493.00\t0.5087\n",
      "1499.00\t0.5087\n",
      "1505.00\t0.5087\n",
      "1582.00\t0.5087\n",
      "1587.00\t0.4999\n",
      "1589.00\t0.4911\n",
      "1617.00\t0.4911\n",
      "1624.00\t0.4911\n",
      "1627.00\t0.4911\n",
      "1645.00\t0.4911\n",
      "1675.00\t0.4817\n",
      "1693.00\t0.4817\n",
      "1701.00\t0.4817\n",
      "1703.00\t0.4817\n",
      "1717.00\t0.4817\n",
      "1729.00\t0.4817\n",
      "1730.00\t0.4817\n",
      "1751.00\t0.4817\n",
      "1763.00\t0.4702\n",
      "1786.00\t0.4702\n",
      "1791.00\t0.4702\n",
      "1806.00\t0.4582\n",
      "1814.00\t0.4461\n",
      "1820.00\t0.4461\n",
      "1826.00\t0.4461\n",
      "1833.00\t0.4461\n",
      "1838.00\t0.4461\n",
      "1869.00\t0.4461\n",
      "1904.00\t0.4461\n",
      "1918.00\t0.4317\n",
      "1922.00\t0.4317\n",
      "1959.00\t0.4317\n",
      "1989.00\t0.4163\n",
      "1990.00\t0.4009\n",
      "2010.00\t0.4009\n",
      "2015.00\t0.3848\n",
      "2018.00\t0.3688\n",
      "2027.00\t0.3688\n",
      "2030.00\t0.3688\n",
      "2065.00\t0.3688\n",
      "2093.00\t0.3504\n",
      "2126.00\t0.3504\n",
      "2161.00\t0.3504\n",
      "2170.00\t0.3504\n",
      "2175.00\t0.3504\n",
      "2192.00\t0.3504\n",
      "2195.00\t0.3504\n",
      "2227.00\t0.3504\n",
      "2233.00\t0.3504\n",
      "2234.00\t0.3504\n",
      "2237.00\t0.3504\n",
      "2286.00\t0.3066\n",
      "2320.00\t0.3066\n",
      "2372.00\t0.3066\n",
      "2388.00\t0.3066\n",
      "2539.00\t0.3066\n",
      "2556.00\t0.3066\n",
      "2563.00\t0.3066\n",
      "2659.00\t0.3066\n"
     ]
    }
   ],
   "source": [
    "# Print the survival values at each time step\n",
    "km.print_survival_table()"
   ]
  }
 ],
 "metadata": {
  "kernelspec": {
   "display_name": "torchsurv",
   "language": "python",
   "name": "python3"
  },
  "language_info": {
   "codemirror_mode": {
    "name": "ipython",
    "version": 3
   },
   "file_extension": ".py",
   "mimetype": "text/x-python",
   "name": "python",
   "nbconvert_exporter": "python",
   "pygments_lexer": "ipython3",
   "version": "3.10.18"
  }
 },
 "nbformat": 4,
 "nbformat_minor": 5
}
